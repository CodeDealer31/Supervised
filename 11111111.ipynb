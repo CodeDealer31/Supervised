{
 "cells": [
  {
   "cell_type": "code",
   "execution_count": 44,
   "metadata": {},
   "outputs": [],
   "source": [
    "import numpy as np\n",
    "import matplotlib.pyplot as plt\n",
    "import math\n",
    "import random\n",
    "def regression(X,Y,k):\n",
    "    \n",
    "    real_X = np.vstack(X for x in range(k))\n",
    "    len_X = len(X)\n",
    "    for i in range(len_X):\n",
    "        for kk in range(k):\n",
    "            real_X[kk, i-1] = (X[i-1]**(kk))\n",
    "    \n",
    "    XTX = real_X.dot(real_X.T)\n",
    "    XTY = real_X.dot(Y)\n",
    "    w = np.linalg.inv(XTX).dot(XTY)\n",
    "    print(XTX)\n",
    "    print(XTY)\n",
    "    print(w)\n"
   ]
  },
  {
   "cell_type": "code",
   "execution_count": 47,
   "metadata": {},
   "outputs": [
    {
     "name": "stdout",
     "output_type": "stream",
     "text": [
      "[[   4   10   30  100]\n",
      " [  10   30  100  354]\n",
      " [  30  100  354 1300]\n",
      " [ 100  354 1300 4890]]\n",
      "[ 10  27  91 339]\n",
      "[-5.         15.16666667 -8.5         1.33333333]\n"
     ]
    }
   ],
   "source": [
    "a = [1 ,2, 3, 4]\n",
    "b = [3, 2, 0, 5]\n",
    "regression(a,b,4)"
   ]
  },
  {
   "cell_type": "code",
   "execution_count": null,
   "metadata": {},
   "outputs": [],
   "source": [
    "def evaluate_reg(w,X,Y):\n",
    "    "
   ]
  }
 ],
 "metadata": {
  "kernelspec": {
   "display_name": "Python 3",
   "language": "python",
   "name": "python3"
  },
  "language_info": {
   "codemirror_mode": {
    "name": "ipython",
    "version": 3
   },
   "file_extension": ".py",
   "mimetype": "text/x-python",
   "name": "python",
   "nbconvert_exporter": "python",
   "pygments_lexer": "ipython3",
   "version": "3.7.1"
  }
 },
 "nbformat": 4,
 "nbformat_minor": 2
}
