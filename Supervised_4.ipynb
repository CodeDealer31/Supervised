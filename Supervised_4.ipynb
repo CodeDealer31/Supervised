{
 "cells": [
  {
   "cell_type": "code",
   "execution_count": 86,
   "metadata": {},
   "outputs": [],
   "source": [
    "import scipy.io as scio\n",
    "import numpy as np\n",
    "from numpy.random import shuffle\n",
    "\n",
    "data_path=\"boston.mat\"\n",
    "data = np.array(scio.loadmat(data_path)['boston'])"
   ]
  },
  {
   "cell_type": "code",
   "execution_count": 90,
   "metadata": {},
   "outputs": [],
   "source": [
    "def Generaterandomdata(data):\n",
    "\n",
    "    cool = np.array(data)\n",
    "    shuffle(cool)\n",
    "    train_set = cool[0:337]\n",
    "    test_set = cool[337:len(cool)]\n",
    "\n",
    "    return train_set,test_set"
   ]
  },
  {
   "cell_type": "code",
   "execution_count": 91,
   "metadata": {},
   "outputs": [],
   "source": [
    "# import numpy as np\n",
    "import matplotlib.pyplot as plt\n",
    "import math\n",
    "import random\n",
    "def regression(X,Y,k):\n",
    "    \n",
    "    real_X = np.vstack(X for x in range(k))\n",
    "    len_X = len(X)\n",
    "    # Construct matrix\n",
    "    for i in range(len_X):\n",
    "        for kk in range(k):\n",
    "            real_X[kk, i-1] = (X[i-1]**(kk))\n",
    "    \n",
    "    XTX = real_X.dot(real_X.T)\n",
    "#     [ll,oo] = np.linalg.eig(XTX)\n",
    "    XTY = real_X.dot(Y)\n",
    "#     w = np.linalg.inv(XTX).dot(XTY)\n",
    "    w = np.mat(real_X).I.T.dot(np.mat(Y).T)\n",
    "    return w\n",
    "    print(XTX)\n",
    "    print(XTY)\n",
    "    print(w)\n"
   ]
  },
  {
   "cell_type": "code",
   "execution_count": 128,
   "metadata": {},
   "outputs": [],
   "source": [
    "def evaluate_reg(w,X):\n",
    "    k = len(w)\n",
    "    real_X = np.vstack(X for x in range(k))\n",
    "    len_X = len(X)\n",
    "    for i in range(len_X):\n",
    "        for kk in range(k):\n",
    "            real_X[kk, i-1] = (X[i-1]**(kk))\n",
    "    #Y estimates\n",
    "    Y_e = (real_X.T).dot(w)\n",
    "    return Y_e"
   ]
  },
  {
   "cell_type": "code",
   "execution_count": 129,
   "metadata": {},
   "outputs": [],
   "source": [
    " def MSE(Y_e,Y):\n",
    "        MSEvector = [(Y_e[i]-Y[i])**2 for i in range(len(Y))]\n",
    "        MSE = sum(MSEvector)/len(Y)\n",
    "        return MSE"
   ]
  },
  {
   "cell_type": "markdown",
   "metadata": {},
   "source": [
    "# 4.a Naive regression"
   ]
  },
  {
   "cell_type": "code",
   "execution_count": 203,
   "metadata": {
    "scrolled": true
   },
   "outputs": [
    {
     "name": "stdout",
     "output_type": "stream",
     "text": [
      "84.51529356602593\n",
      "84.44414946594779\n"
     ]
    }
   ],
   "source": [
    "tr_mse = np.ones(20)\n",
    "tt_mse = np.ones(20)\n",
    "\n",
    "for time in range(20):\n",
    "    [tr,tt] = Generaterandomdata(data)\n",
    "    \n",
    "    vec_ones_tr = np.ones(len(tr))\n",
    "    vec_ones_tt = np.ones(len(tt)) #constant vector\n",
    "    label_tr = tr[:,13]\n",
    "    label_tt = tt[:,13] #label vector\n",
    "    w = regression(vec_ones_tr,label_tr,1)\n",
    "    tr_e = evaluate_reg(w,vec_ones_tr)\n",
    "    tt_e = evaluate_reg(w,vec_ones_tt)\n",
    "    tr_mse[time] = MSE(tr_e,label_tr)[0,0]\n",
    "    tt_mse[time] = MSE(tt_e,label_tt)[0,0]\n",
    "    \n",
    "ave_tr_mse = np.average(tr_mse)\n",
    "ave_tt_mse = np.average(tt_mse)\n",
    "\n",
    "print(ave_tr_mse )\n",
    "print(ave_tt_mse)\n"
   ]
  },
  {
   "cell_type": "markdown",
   "metadata": {},
   "source": [
    "# 4.b Simple interpretation\n"
   ]
  },
  {
   "cell_type": "markdown",
   "metadata": {},
   "source": [
    "Simple interpretation: Using constant vector to fit the data is same as caculating the average of label values."
   ]
  },
  {
   "cell_type": "markdown",
   "metadata": {},
   "source": [
    "# 4.c Linear Regression with single attributes"
   ]
  },
  {
   "cell_type": "code",
   "execution_count": 204,
   "metadata": {},
   "outputs": [
    {
     "name": "stdout",
     "output_type": "stream",
     "text": [
      "60.51102707021914\n",
      "67.36055611385126\n"
     ]
    }
   ],
   "source": [
    "tr_mse = np.ones(20)\n",
    "tt_mse = np.ones(20)\n",
    "col =10\n",
    "for time in range(20):\n",
    "    [tr,tt] = Generaterandomdata(data)\n",
    "    vec_tr = tr[:,col]\n",
    "    vec_tt = tt[:,col]\n",
    "    label_tr = tr[:,13]\n",
    "    label_tt = tt[:,13]\n",
    "    w = regression(vec_tr,label_tr,2)\n",
    "    tr_e = evaluate_reg(w,vec_tr)\n",
    "    tt_e = evaluate_reg(w,vec_tt)\n",
    "    tr_mse[time] = MSE(tr_e,label_tr)[0,0]\n",
    "    tt_mse[time] = MSE(tt_e,label_tt)[0,0]\n",
    "    \n",
    "ave_tr_mse = sum(tr_mse)/len(tr_mse)\n",
    "ave_tt_mse = np.average(tt_mse)\n",
    "\n",
    "print(ave_tr_mse)\n",
    "print(ave_tt_mse)\n"
   ]
  },
  {
   "cell_type": "markdown",
   "metadata": {},
   "source": [
    "# 4.d Linear Regression using all attributes"
   ]
  },
  {
   "cell_type": "code",
   "execution_count": 199,
   "metadata": {},
   "outputs": [
    {
     "name": "stdout",
     "output_type": "stream",
     "text": [
      "21.298561305393076\n",
      "25.127042657988902\n"
     ]
    }
   ],
   "source": [
    "tr_mse = np.ones(20)\n",
    "tt_mse = np.ones(20)\n",
    "col =10\n",
    "for time in range(20):\n",
    "    [tr,tt] = Generaterandomdata(data)\n",
    "    vec_tr = tr[:,0:13]\n",
    "    vec_tt = tt[:,0:13]\n",
    "    # adding biased term\n",
    "    b = np.ones(len(tr)).reshape(len(tr),1)\n",
    "    bb = np.ones(len(tt)).reshape(len(tt),1)\n",
    "    vec_tr = np.hstack((b,vec_tr)) \n",
    "    vec_tt = np.hstack((bb,vec_tt)) \n",
    "    label_tr = tr[:,13]\n",
    "    label_tt = tt[:,13]\n",
    "    # parameters\n",
    "    w = np.mat(vec_tr).I*label_tr.reshape(337,1)\n",
    "    tr_e = vec_tr.dot(w)\n",
    "    tt_e = vec_tt.dot(w)\n",
    "    tr_mse[time] = MSE(tr_e,label_tr)[0,0]\n",
    "    tt_mse[time] = MSE(tt_e,label_tt)[0,0]\n",
    "    \n",
    "ave_tr_mse = sum(tr_mse)/len(tr_mse)\n",
    "ave_tt_mse = np.average(tt_mse)\n",
    "\n",
    "print(ave_tr_mse)\n",
    "print(ave_tt_mse)\n"
   ]
  }
 ],
 "metadata": {
  "kernelspec": {
   "display_name": "Python 3",
   "language": "python",
   "name": "python3"
  },
  "language_info": {
   "codemirror_mode": {
    "name": "ipython",
    "version": 3
   },
   "file_extension": ".py",
   "mimetype": "text/x-python",
   "name": "python",
   "nbconvert_exporter": "python",
   "pygments_lexer": "ipython3",
   "version": "3.7.1"
  }
 },
 "nbformat": 4,
 "nbformat_minor": 2
}
