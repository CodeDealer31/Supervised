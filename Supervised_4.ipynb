{
 "cells": [
  {
   "cell_type": "code",
   "execution_count": 7,
   "metadata": {},
   "outputs": [],
   "source": [
    "import scipy.io as scio\n",
    "import numpy as np\n",
    "from numpy.random import shuffle\n",
    "\n",
    "data_path=\"boston.mat\"\n",
    "data = np.array(scio.loadmat(data_path)['boston'])"
   ]
  },
  {
   "cell_type": "code",
   "execution_count": 8,
   "metadata": {},
   "outputs": [],
   "source": [
    "def Generaterandomdata(data):\n",
    "\n",
    "    cool = np.array(data)\n",
    "    shuffle(cool)\n",
    "    train_set = cool[0:337]\n",
    "    test_set = cool[337:len(cool)]\n",
    "\n",
    "    return train_set,test_set"
   ]
  },
  {
   "cell_type": "code",
   "execution_count": 9,
   "metadata": {},
   "outputs": [],
   "source": [
    "# import numpy as np\n",
    "import matplotlib.pyplot as plt\n",
    "import math\n",
    "import random\n",
    "def regression(X,Y,k):\n",
    "    \n",
    "    real_X = np.vstack(X for x in range(k))\n",
    "    len_X = len(X)\n",
    "    # Construct matrix\n",
    "    for i in range(len_X):\n",
    "        for kk in range(k):\n",
    "            real_X[kk, i-1] = (X[i-1]**(kk))\n",
    "    \n",
    "    XTX = real_X.dot(real_X.T)\n",
    "    XTY = real_X.dot(Y)\n",
    "    w = np.linalg.pinv(XTX).dot(XTY)\n",
    "#     w = np.mat(real_X).I.T.dot(np.mat(Y).T)\n",
    "    return w\n"
   ]
  },
  {
   "cell_type": "code",
   "execution_count": 10,
   "metadata": {},
   "outputs": [],
   "source": [
    "def evaluate_reg(w,X):\n",
    "    k = len(w)\n",
    "    real_X = np.vstack(X for x in range(k))\n",
    "    len_X = len(X)\n",
    "    for i in range(len_X):\n",
    "        for kk in range(k):\n",
    "            real_X[kk, i-1] = (X[i-1]**(kk))\n",
    "    #Y estimates\n",
    "    Y_e = (real_X.T).dot(w)\n",
    "    return Y_e"
   ]
  },
  {
   "cell_type": "code",
   "execution_count": 11,
   "metadata": {},
   "outputs": [],
   "source": [
    " def MSE(Y_e,Y):\n",
    "        MSEvector = [(Y_e[i]-Y[i])**2 for i in range(len(Y))]\n",
    "        MSE = sum(MSEvector)/len(Y)\n",
    "        return MSE"
   ]
  },
  {
   "cell_type": "markdown",
   "metadata": {},
   "source": [
    "# 4.a Naive regression"
   ]
  },
  {
   "cell_type": "code",
   "execution_count": 18,
   "metadata": {
    "scrolled": true
   },
   "outputs": [
    {
     "name": "stdout",
     "output_type": "stream",
     "text": [
      "82.38243260044555\n",
      "88.73301945651367\n",
      "4.160561242816212\n",
      "8.367248637567075\n"
     ]
    }
   ],
   "source": [
    "tr_mse = np.ones(20)\n",
    "tt_mse = np.ones(20)\n",
    "\n",
    "for time in range(20):\n",
    "    [tr,tt] = Generaterandomdata(data)\n",
    "\n",
    "    vec_ones_tr = np.ones(len(tr))\n",
    "    vec_ones_tt = np.ones(len(tt)) #constant vector\n",
    "    label_tr = tr[:,13]\n",
    "    label_tt = tt[:,13] #label vector\n",
    "    w = regression(vec_ones_tr,label_tr,1)\n",
    "    tr_e = evaluate_reg(w,vec_ones_tr)\n",
    "    tt_e = evaluate_reg(w,vec_ones_tt)\n",
    "    tr_mse[time] = MSE(tr_e,label_tr)\n",
    "    tt_mse[time] = MSE(tt_e,label_tt)\n",
    "\n",
    "ave_tr_mse = np.average(tr_mse)\n",
    "ave_tt_mse = np.average(tt_mse)\n",
    "stdtr = np.std(tr_mse)\n",
    "stdtt = np.std(tt_mse)\n",
    "print(ave_tr_mse )\n",
    "print(ave_tt_mse)\n",
    "print(stdtr)\n",
    "print(stdtt)\n",
    "\n",
    "\n",
    "\n",
    "    \n"
   ]
  },
  {
   "cell_type": "markdown",
   "metadata": {},
   "source": [
    "# 4.b Simple interpretation\n"
   ]
  },
  {
   "cell_type": "markdown",
   "metadata": {},
   "source": [
    "Simple interpretation: Using constant vector to fit the data is same as caculating the average of label values."
   ]
  },
  {
   "cell_type": "markdown",
   "metadata": {},
   "source": [
    "# 4.c Linear Regression with single attributes"
   ]
  },
  {
   "cell_type": "code",
   "execution_count": 15,
   "metadata": {},
   "outputs": [
    {
     "name": "stdout",
     "output_type": "stream",
     "text": [
      "Train set MSE for column 1 = 70.61349333064315\\\\\n",
      "Test set MSE for column 1 = 74.61761643363384\\\\\n",
      "Train set MSE for column 2 = 73.9304769694273\\\\\n",
      "Test set MSE for column 2 = 72.9593042628605\\\\\n",
      "Train set MSE for column 3 = 64.73655087651018\\\\\n",
      "Test set MSE for column 3 = 64.85104773779682\\\\\n",
      "Train set MSE for column 4 = 82.20436623537827\\\\\n",
      "Test set MSE for column 4 = 81.99496550643077\\\\\n",
      "Train set MSE for column 5 = 68.58310112283421\\\\\n",
      "Test set MSE for column 5 = 70.20690506094152\\\\\n",
      "Train set MSE for column 6 = 44.56598936910312\\\\\n",
      "Test set MSE for column 6 = 42.13082743746959\\\\\n",
      "Train set MSE for column 7 = 71.13081597953231\\\\\n",
      "Test set MSE for column 7 = 75.35457743577554\\\\\n",
      "Train set MSE for column 8 = 77.83914439766032\\\\\n",
      "Test set MSE for column 8 = 82.46568767894527\\\\\n",
      "Train set MSE for column 9 = 70.80842735075744\\\\\n",
      "Test set MSE for column 9 = 75.17201805915725\\\\\n",
      "Train set MSE for column 10 = 66.85021288256829\\\\\n",
      "Test set MSE for column 10 = 64.52748788451477\\\\\n",
      "Train set MSE for column 11 = 63.16427386597726\\\\\n",
      "Test set MSE for column 11 = 62.01836280109107\\\\\n",
      "Train set MSE for column 12 = 75.492533617341\\\\\n",
      "Test set MSE for column 12 = 74.49424048302629\\\\\n",
      "Train set MSE for column 13 = 38.89438231493797\\\\\n",
      "Test set MSE for column 13 = 38.01939619561639\\\\\n"
     ]
    }
   ],
   "source": [
    "tr_mse = np.ones(20)\n",
    "tt_mse = np.ones(20)\n",
    "for coll in range(13):\n",
    "    col =coll #choose attribute # start from 0\n",
    "    for time in range(20):\n",
    "        [tr,tt] = Generaterandomdata(data)\n",
    "        vec_tr = tr[:,col]\n",
    "        vec_tt = tt[:,col]\n",
    "        label_tr = tr[:,13]\n",
    "        label_tt = tt[:,13]\n",
    "        w = regression(vec_tr,label_tr,2)\n",
    "        tr_e = evaluate_reg(w,vec_tr)\n",
    "        tt_e = evaluate_reg(w,vec_tt)\n",
    "        tr_mse[time] = MSE(tr_e,label_tr)\n",
    "        tt_mse[time] = MSE(tt_e,label_tt)\n",
    "        stdtr = np.std(tr_mse)\n",
    "        stdtt = np.std(tt_mse)\n",
    "    ave_tr_mse = sum(tr_mse)/len(tr_mse)\n",
    "    ave_tt_mse = np.average(tt_mse)\n",
    "    # print(stdtr)\n",
    "    # print(stdtt)\n",
    "    print(\"Train set MSE for column \"+str(coll+1)+\" = \"+str(ave_tr_mse)+\"\\\\\\\\\")\n",
    "    print(\"Test set MSE for column \"+str(coll+1)+\" = \"+str(ave_tt_mse)+\"\\\\\\\\\")\n"
   ]
  },
  {
   "cell_type": "markdown",
   "metadata": {},
   "source": [
    "# 4.d Linear Regression using all attributes"
   ]
  },
  {
   "cell_type": "code",
   "execution_count": 96,
   "metadata": {},
   "outputs": [
    {
     "name": "stdout",
     "output_type": "stream",
     "text": [
      "2.106037757062189\n",
      "4.799445381702329\n",
      "21.414934569785125\n",
      "24.29176051840343\n"
     ]
    }
   ],
   "source": [
    "tr_mse = np.ones(20)\n",
    "tt_mse = np.ones(20)\n",
    "for time in range(20):\n",
    "    [tr,tt] = Generaterandomdata(data)\n",
    "    vec_tr = tr[:,0:13]\n",
    "    vec_tt = tt[:,0:13]\n",
    "    # adding biased term\n",
    "    b = np.ones(len(tr)).reshape(len(tr),1)\n",
    "    bb = np.ones(len(tt)).reshape(len(tt),1)\n",
    "    vec_tr = np.hstack((b,vec_tr)) \n",
    "    vec_tt = np.hstack((bb,vec_tt)) \n",
    "    label_tr = tr[:,13]\n",
    "    label_tt = tt[:,13]\n",
    "    # parameters\n",
    "    w = np.mat(vec_tr).I*label_tr.reshape(337,1)\n",
    "    tr_e = vec_tr.dot(w)\n",
    "    tt_e = vec_tt.dot(w)\n",
    "    tr_mse[time] = MSE(tr_e,label_tr)[0,0]\n",
    "    tt_mse[time] = MSE(tt_e,label_tt)[0,0]\n",
    "    stdtr = np.std(tr_mse)\n",
    "    stdtt = np.std(tt_mse)\n",
    "ave_tr_mse = sum(tr_mse)/len(tr_mse)\n",
    "ave_tt_mse = np.average(tt_mse)\n",
    "print(stdtr)\n",
    "print(stdtt)\n",
    "print(ave_tr_mse)\n",
    "print(ave_tt_mse)\n"
   ]
  },
  {
   "cell_type": "code",
   "execution_count": 35,
   "metadata": {
    "scrolled": true
   },
   "outputs": [
    {
     "name": "stdout",
     "output_type": "stream",
     "text": [
      "84.14949950250511\n",
      "85.13860546123695\n",
      "84.78691501201914\n",
      "83.84890991379687\n",
      "84.48785578811116\n",
      "84.49972223236183\n",
      "85.41059652722132\n",
      "82.63012975585417\n",
      "84.17917702013753\n",
      "85.24979500943073\n",
      "84.53570439116307\n",
      "84.45644676856513\n",
      "83.06098815697945\n",
      "87.34209619327426\n",
      "83.53664628551806\n",
      "86.58571869964514\n",
      "84.86669484630487\n",
      "83.69769052408824\n",
      "82.94199124761163\n",
      "87.55450786569237\n",
      "85.98277080893556\n",
      "81.4548119874053\n",
      "84.9454900104782\n",
      "83.58213169513871\n",
      "83.96760638906741\n",
      "85.5381602781845\n",
      "84.00637942572355\n",
      "85.65923564284175\n",
      "85.79751547517367\n",
      "81.81500699071925\n",
      "85.59829552078473\n",
      "82.24310749573768\n",
      "83.61349181554826\n",
      "86.1713016281685\n",
      "84.31850178305699\n",
      "84.87148982405765\n",
      "84.34283992991047\n",
      "84.89763138854512\n",
      "84.2990320421946\n",
      "84.8499141766174\n"
     ]
    }
   ],
   "source": [
    "a = []\n",
    "for i in range(20):\n",
    "    aa = naive_regression().f()\n",
    "    a.append(aa)\n"
   ]
  },
  {
   "cell_type": "code",
   "execution_count": 49,
   "metadata": {},
   "outputs": [
    {
     "data": {
      "text/plain": [
       "0.8163512820705645"
      ]
     },
     "execution_count": 49,
     "metadata": {},
     "output_type": "execute_result"
    }
   ],
   "source": [
    "\n"
   ]
  },
  {
   "cell_type": "code",
   "execution_count": null,
   "metadata": {},
   "outputs": [],
   "source": []
  }
 ],
 "metadata": {
  "kernelspec": {
   "display_name": "Python 3",
   "language": "python",
   "name": "python3"
  },
  "language_info": {
   "codemirror_mode": {
    "name": "ipython",
    "version": 3
   },
   "file_extension": ".py",
   "mimetype": "text/x-python",
   "name": "python",
   "nbconvert_exporter": "python",
   "pygments_lexer": "ipython3",
   "version": "3.7.1"
  }
 },
 "nbformat": 4,
 "nbformat_minor": 2
}
