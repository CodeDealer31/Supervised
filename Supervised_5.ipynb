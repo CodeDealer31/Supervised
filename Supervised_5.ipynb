{
 "cells": [
  {
   "cell_type": "code",
   "execution_count": null,
   "metadata": {
    "scrolled": false
   },
   "outputs": [],
   "source": [
    "import numpy as np\n",
    "import scipy.io as scio\n",
    "import pandas as pd\n",
    "import matplotlib.pyplot as plt\n",
    "from mpl_toolkits import mplot3d\n",
    "\n",
    "from sklearn.model_selection import train_test_split\n",
    "from sklearn.model_selection import KFold\n",
    "\n",
    "\n",
    "\n",
    "# Variables in order:\n",
    "#  CRIM     per capita crime rate by town\n",
    "#  ZN       proportion of residential land zoned for lots over 25,000 sq.ft.\n",
    "#  INDUS    proportion of non-retail business acres per town\n",
    "#  CHAS     Charles River dummy variable (= 1 if tract bounds river; 0 otherwise)\n",
    "#  NOX      nitric oxides concentration (parts per 10 million)\n",
    "#  RM       average number of rooms per dwelling\n",
    "#  AGE      proportion of owner-occupied units built prior to 1940\n",
    "#  DIS      weighted distances to five Boston employment centres\n",
    "#  RAD      index of accessibility to radial highways\n",
    "#  TAX      full-value property-tax rate per $10,000\n",
    "#  PTRATIO  pupil-teacher ratio by town\n",
    "#  B        1000(Bk - 0.63)^2 where Bk is the proportion of blacks by town\n",
    "#  LSTAT    % lower status of the population\n",
    "#  MEDV     Median value of owner-occupied homes in $1000's\n",
    "  "
   ]
  },
  {
   "cell_type": "code",
   "execution_count": null,
   "metadata": {},
   "outputs": [],
   "source": [
    "def Gaussian_kernel_matrix(x_train, sigma):# arguments: array and scalar\n",
    "    l = len(x_train)\n",
    "    K = np.zeros((l,l))\n",
    "    for i in range (0,l):\n",
    "        K[i,i] = 1\n",
    "        for j in range (i+1,l):\n",
    "            K[i,j] = np.exp(-np.linalg.norm(x_train[i]-x_train[j])**2/(2*sigma**2))\n",
    "            K[j,i] = K[i,j]\n",
    "    K = np.mat(K)\n",
    "    return K"
   ]
  },
  {
   "cell_type": "code",
   "execution_count": null,
   "metadata": {},
   "outputs": [],
   "source": [
    "def Gaussian_kernel(Xi,Xj,sigma): # arguments: arrays and scalar\n",
    "    K = np.exp(-np.linalg.norm(Xi - Xj)**2/(2*sigma**2))\n",
    "    return K"
   ]
  },
  {
   "cell_type": "code",
   "execution_count": null,
   "metadata": {},
   "outputs": [],
   "source": [
    "def alpha_star(K, gamma, y): # arguments: matrix, scalar and array\n",
    "    l = len(K)\n",
    "    I = np.mat(np.identity(l))\n",
    "    a = (K + gamma*l*I).I*y\n",
    "    return a"
   ]
  },
  {
   "cell_type": "code",
   "execution_count": null,
   "metadata": {},
   "outputs": [],
   "source": [
    "def Cross_validation_parameter_search(X_train, Y_train, gamma, sigma):\n",
    "    kf = KFold(n_splits=5)\n",
    "    MSE = np.zeros((len(gamma), len(sigma)))\n",
    "    best_MSE = 0\n",
    "    for p1 in range (0, len(gamma)):\n",
    "        for p2 in range (0, len(sigma)):\n",
    "            sum_SSE = 0\n",
    "            for train_index, test_index in kf.split(X_train):\n",
    "                SSE = 0\n",
    "                x_train, x_test = X_train[train_index], X_train[test_index]\n",
    "                y_train, y_test = Y_train[train_index], Y_train[test_index]\n",
    "                K = Gaussian_kernel_matrix(x_train, sigma[p2])\n",
    "                a = alpha_star(K, gamma[p1], y_train)\n",
    "                y_predicted = np.zeros((len(y_test), 1))\n",
    "                for i in range(0, len(y_test)):\n",
    "                    for j in range(0, len(x_train)):\n",
    "                        y_predicted[i, 0] += a[j, 0] * Gaussian_kernel(x_train[j], x_test[i], sigma[p2])\n",
    "                    SSE += (y_predicted[i, 0] - y_test[i]) ** 2\n",
    "                sum_SSE += SSE\n",
    "            MSE[p1, p2] = sum_SSE/(len(Y_train))\n",
    "\n",
    "            if (p1 == 0 and p2 == 0) or (MSE[p1, p2] < best_MSE):\n",
    "                best_MSE = MSE[p1, p2]\n",
    "                gamma_star, sigma_star = gamma[p1], sigma[p2]\n",
    "    print('Smallest MSE is', np.amin(MSE))\n",
    "    return gamma_star, sigma_star, MSE"
   ]
  },
  {
   "cell_type": "code",
   "execution_count": null,
   "metadata": {},
   "outputs": [],
   "source": [
    "def split_into_train_test(df):\n",
    "    train, test = train_test_split(df, test_size=0.33)\n",
    "    train.reset_index(inplace=True)\n",
    "    test.reset_index(inplace=True)\n",
    "\n",
    "    # convert data-frames into arrays\n",
    "    X_train = np.array(train[['CRIM', 'ZN', 'INDUS', 'CHAS', 'NOX', 'RM', 'AGE',\n",
    "                              'DIS', 'RAD', 'TAX', 'PTRATIO', 'B', 'LSTAT']])\n",
    "    Y_train = np.array(train[['MEDV']])\n",
    "    X_test = np.array(test[['CRIM', 'ZN', 'INDUS', 'CHAS', 'NOX', 'RM', 'AGE',\n",
    "                            'DIS', 'RAD', 'TAX', 'PTRATIO', 'B', 'LSTAT']])\n",
    "    Y_test = np.array(test[['MEDV']])\n",
    "    return X_train, Y_train, X_test, Y_test"
   ]
  },
  {
   "cell_type": "code",
   "execution_count": null,
   "metadata": {},
   "outputs": [],
   "source": [
    "# main\n",
    "\n",
    "\n",
    "data_path=\"boston.mat\"\n",
    "data = np.array(scio.loadmat(data_path)['boston'])\n",
    "df = pd.DataFrame(data, columns=['CRIM','ZN','INDUS','CHAS','NOX','RM','AGE','DIS','RAD','TAX','PTRATIO','B','LSTAT','MEDV']) \n",
    "\n",
    "gamma = []\n",
    "for i in range (-40, -25):\n",
    "    gamma.append(2**i)\n",
    "\n",
    "sigma = []\n",
    "for i in range (0, 13):\n",
    "    sigma.append(2**(7+i*0.5))\n",
    "    \n",
    "X_train, Y_train, X_test, Y_test = split_into_train_test(df)\n",
    "gamma_star, sigma_star, MSE_CV = Cross_validation_parameter_search(X_train, Y_train, gamma, sigma)\n",
    "# gamma_star = 2**(-30)\n",
    "# sigma_star = 2**9.5\n",
    "\n",
    "number_of_runs = 20\n",
    "MSE_train = []\n",
    "MSE_train_average = 0\n",
    "MSE_test = []\n",
    "MSE_test_average = 0\n",
    "for n in range(0,number_of_runs):\n",
    "    X_train, Y_train, X_test, Y_test = split_into_train_test(df)\n",
    "    K = Gaussian_kernel_matrix(X_train, sigma_star)\n",
    "    a = alpha_star(K, gamma_star, Y_train)\n",
    "    \n",
    "    #MSE train\n",
    "    SSE_train = 0\n",
    "    y_train = np.zeros((len(Y_train), 1))\n",
    "    for i in range(0, len(Y_train)):\n",
    "        for j in range(0, len(X_train)):\n",
    "            y_train[i, 0] += a[j, 0] * Gaussian_kernel(X_train[j], X_train[i], sigma_star)\n",
    "        SSE_train += (y_train[i, 0]-Y_train[i])**2\n",
    "    MSE_train.append(SSE_train/len(Y_train))\n",
    "\n",
    "    #MSE test\n",
    "    SSE_test = 0\n",
    "    y_test = np.zeros((len(Y_test), 1))\n",
    "    for i in range(0, len(Y_test)):\n",
    "        for j in range(0, len(X_train)):\n",
    "            y_test[i, 0] += a[j, 0] * Gaussian_kernel(X_train[j], X_test[i], sigma_star)\n",
    "        SSE_test += (y_test[i, 0]-Y_test[i])**2\n",
    "    MSE_test.append(SSE_test/len(Y_test))\n",
    "    \n",
    "print(np.mean(MSE_train))    \n",
    "print(np.mean(MSE_test))\n",
    "print(np.std(MSE_train))\n",
    "print(np.std(MSE_test))\n"
   ]
  },
  {
   "cell_type": "code",
   "execution_count": null,
   "metadata": {},
   "outputs": [],
   "source": [
    "plt.matshow(np.log(MSE_CV))\n",
    "plt.xlabel(\"Sigma\")\n",
    "plt.ylabel(\"Gamma\")\n",
    "plt.show()"
   ]
  },
  {
   "cell_type": "code",
   "execution_count": null,
   "metadata": {},
   "outputs": [],
   "source": []
  },
  {
   "cell_type": "code",
   "execution_count": null,
   "metadata": {},
   "outputs": [],
   "source": []
  },
  {
   "cell_type": "code",
   "execution_count": null,
   "metadata": {},
   "outputs": [],
   "source": []
  }
 ],
 "metadata": {
  "kernelspec": {
   "display_name": "Python 3",
   "language": "python",
   "name": "python3"
  },
  "language_info": {
   "codemirror_mode": {
    "name": "ipython",
    "version": 3
   },
   "file_extension": ".py",
   "mimetype": "text/x-python",
   "name": "python",
   "nbconvert_exporter": "python",
   "pygments_lexer": "ipython3",
   "version": "3.6.6"
  }
 },
 "nbformat": 4,
 "nbformat_minor": 2
}
